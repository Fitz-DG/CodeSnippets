{
 "cells": [
  {
   "cell_type": "markdown",
   "metadata": {},
   "source": [
    "# 개수 세기, TOP-N 구하기\n",
    "collections.Counter 를 사용하면 간편하게 개수를 셀 수 있다\n",
    "\n",
    "https://docs.python.org/3/library/collections.html#counter-objects\n",
    "\n",
    "* Counter() 딕셔너리에 저장된 값을 카운드 \n",
    "* Counter.most_common(10) 최상위 10개"
   ]
  },
  {
   "cell_type": "code",
   "execution_count": 6,
   "metadata": {},
   "outputs": [
    {
     "name": "stdout",
     "output_type": "stream",
     "text": [
      "                    GNU GENERAL PUBLIC LICENSE\n",
      "                       Version 3, 29 June 2007\n",
      "\n",
      " Copyright (C) 2007 Free Software Foundation, Inc. <https://fsf.org/>\n",
      " Everyone is permitted to copy and distribute verbatim copies\n",
      " of this license document, but changing it is not allowed.\n",
      "\n",
      "                            Preamble\n",
      "\n",
      "  The GNU General Public License is a free, copyleft license for\n",
      "software a\n",
      "5644\n",
      "['gnu', 'general', 'public', 'license', 'version', '3,', '29', 'june', '2007', 'copyright']\n"
     ]
    }
   ],
   "source": [
    "# 라이브러리 임포트\n",
    "import requests\n",
    "from collections import Counter\n",
    "\n",
    "r = requests.get('https://www.gnu.org/licenses/gpl.txt')\n",
    "print (r.text[:400])\n",
    "\n",
    "words = r.text.lower().split()\n",
    "print(len(words))\n",
    "print(words[:10])\n",
    "\n",
    "count = Counter(words)\n",
    "common = count.most_common(10)\n"
   ]
  },
  {
   "cell_type": "code",
   "execution_count": 7,
   "metadata": {},
   "outputs": [
    {
     "data": {
      "text/plain": [
       "[('the', 344),\n",
       " ('of', 219),\n",
       " ('to', 188),\n",
       " ('a', 178),\n",
       " ('or', 142),\n",
       " ('you', 123),\n",
       " ('and', 91),\n",
       " ('that', 89),\n",
       " ('this', 83),\n",
       " ('for', 83)]"
      ]
     },
     "execution_count": 7,
     "metadata": {},
     "output_type": "execute_result"
    }
   ],
   "source": [
    "common"
   ]
  },
  {
   "cell_type": "markdown",
   "metadata": {},
   "source": [
    "한국은행 - 통계 공표 일정\n",
    "http://www.bok.or.kr/portal/stats/statsPublictSchdul/listCldr.do?menuNo=200775\n",
    "\n",
    "한국은행 - 경제 통계 시스템(api 제공) 매월 통화량 제공\n",
    "http://ecos.bok.or.kr/\n",
    "\n",
    "\n",
    "https://www.youtube.com/watch?time_continue=2&v=0LYMTsj_eqc\n",
    "\n",
    "M1(협의통화) M2(광의통화), Lf(금융기관 유동성), L(광의 유동성)\n",
    " 통화량 개념\n",
    "\n",
    "  ° 본원통화:  화폐발행액 + 금융기관의 對한은 원화예치금\n",
    "\n",
    "  ° M1(협의통화)\n",
    "\n",
    "    -   현금통화 + 요구불예금.수시입출식 저축성예금  - 동 금융상품의 예금취급기관 간 상호거래분\n",
    "\n",
    "  ° M2(광의통화)\n",
    "\n",
    "     -   M1 + 기간물 정기예금,적금 및 부금 + 시장형금융상품(CD,RP,표지어음) + 실적 배당형금융상품(금전신탁,수익증권 등) + 금융채 + 기타(투신증권저축, 종금사 발행어음) - 동 금융상품 중 장기(만기 2년이상) 상품 - 동 금융상품의 예금취급기관 간 상호거래분\n",
    "\n",
    "  ° Lf(금융기관 유동성)\n",
    "\n",
    "     -   M2 + M2 중 만기2년이상 예적금 및 금융채 + 한국증권금융(주)의 예수금 + 생보사(우체국보험 포함)보험 계약준비금 + 농협 국민생명공제의 예수금 등 - 동 금융상품의 Lf 편제대상기관 간 상호거래분\n",
    "\n",
    " M1 : 원하면 바로 찾아 쓸 수 있는 돈(현금화 바로 가능)\n",
    " M2 : M1 + 2년 미만의 묶인 돈\n",
    "M2가 M1을 항상 포함하기 때문에 항상 크다\n",
    "통화량 차트를 스토캐스틱 재료로 사용해보자\n",
    "https://blog.naver.com/marsflower/140064565393\n",
    "https://blog.naver.com/rnernesj/221382193585\n",
    "https://blog.naver.com/jjst0618/220904755643\n",
    "https://blog.naver.com/d2rksider/221278949449\n",
    "■ 통화량 의의 및 활용도\n",
    "  ° 통화량은 유동성을 측정하는 척도이며, 경제정책을 달성하기 위한 중간목표나 정보변수 등으로 활용\n",
    "■  수치해석 방법\n",
    "  °  지표 수치가 증가할수록 통화량 (증감율)이 증가"
   ]
  },
  {
   "cell_type": "markdown",
   "metadata": {},
   "source": [
    "# 금융, 금융 데이터\n",
    "금융: 한 마디로 \"돈 빌리고 빌려주는 거래\" <br/>(금융시장은 돈 빌리고 빌려주는 시장)\n",
    "* 이 거래의 가장 중요한 요소는 이자 (interest)\n",
    "* 금융 데이터: 금융 거래에서 나타나는 수치 자료 (가격, 수익률 등)"
   ]
  },
  {
   "cell_type": "markdown",
   "metadata": {},
   "source": [
    "# 돈 & 통화\n",
    "* 돈(우리말)(money)과 화폐(한자어) 는 같은 말\n",
    "* 돈(money)과 통화(currency) 는 다른 말\n",
    "* 통화: 유통화폐의 줄임 말. 즉, 거래에 쓰이는(시중에 돌고 있는) 돈\n",
    "* [e-나라지표] 통화량 추이 http://goo.gl/e9bpTC"
   ]
  },
  {
   "cell_type": "markdown",
   "metadata": {},
   "source": [
    "# 물가 = 돈의 가치\n",
    "### 한국은행의 가장 중요한 업무의 순서는?\n",
    "* 물가 안정, 화폐의 발행, 통화신용정책, 금융기관에 여신/수신\n",
    "\n",
    "### 물가 = 돈의 가치\n",
    "* 돈의 가치는 물가로 표현: 물가 상승(=돈의 가치 하락), 물가 하락(=돈의 가치 상승)\n",
    "* 지수형태인 물가지수로 파악: 소비자물가지수(CPI), 생산자물가지수(PPI)\n",
    "# 물가의 측정\n",
    "* 인플레이션 (inflation) : 물가가 지속적으로 오르는 현상\n",
    "* 디플레이션 (deflation) : 물가가 지속적으로 내리는 현상\n",
    "\n",
    "\n",
    "인플레이션과 디플레이션 어떤 것이 더 나쁜가? <br>\n",
    "(많은 경제학자가 2% 정도의 인플레이션은 바람직하다고 주장)"
   ]
  },
  {
   "cell_type": "markdown",
   "metadata": {},
   "source": [
    "# 금융 시장 (Financial market)\n",
    "<b>Market(시장)</b>: 상품(금융상품) -- 공급자(금융회사) -- 소비자(금융소비자)\n",
    "* 금융 & 상품\n",
    "* 금융기관 & 금융회사\n",
    "* 금융 투자자 & 금융 소비자"
   ]
  },
  {
   "cell_type": "markdown",
   "metadata": {},
   "source": [
    "# 우리나라 금융시장 구조\n",
    "\n",
    "<img width=\"480\" src=\"http://i.imgur.com/QyktroV.png\" >\n",
    "\n",
    "<출처: 우리나라 금융시장, 한국은행>"
   ]
  },
  {
   "cell_type": "markdown",
   "metadata": {},
   "source": [
    "# 금융 시장 (Financial market) 구분\n",
    "* 기간(보통 1년)에 따라: 단기금융시장 (Money market), 자본시장 (Capital market)\n",
    "* 이자,만기여부에 따라: 채권시장 (debt market), 주식시장 (Equity market)\n",
    "* 발행/유통에 따라: 발행시장 (primary market), 유통시장 (Secondary market)"
   ]
  },
  {
   "cell_type": "markdown",
   "metadata": {},
   "source": [
    "# 금융회사\n",
    "* 상업은행 (Commercial Bank): 여신 (loan), 수신 (deposit) (saving)\n",
    "* 투자은행 (Investment Bank): 기업과 투자주체를 연결 (주식, 채권, 외환, PF 등)\n",
    "\n",
    "※ CIB(CB+IB), UB(Universal Bank, 은행·증권·보험 업무 통합) <br/>\n",
    "※ 겸업주의 (Universal Banking): 은행, 증권, 보험의 경계가 없어지는 것"
   ]
  },
  {
   "cell_type": "markdown",
   "metadata": {},
   "source": [
    "# 채권 시장 (Debt market)\n",
    "## 발행시장 (Primary market)\n",
    "* 공모발행 (Public offering): 인수기관(증권회사)가 총액을 인수\n",
    "* 사모발행 (Private placement): 발행기업이 매수자와 조건을 직접 협의\n",
    "\n",
    "## 유통시장 (Secondary market)\n",
    "* 장내시장 (Exchange market): 거래소에서 표준화된 방식으로 거래\n",
    "* 장외시장 (Over The Counter; OTC): 증권회사가 단순중계 brokerage로 거래"
   ]
  },
  {
   "cell_type": "markdown",
   "metadata": {},
   "source": [
    "# 주식 시장 (Equity market)\n",
    "\n",
    "## 발행시장 (Primary market)\n",
    "* IPO, 유상증자, 무상증자, 주식배당, 전환사채 주식전환\n",
    "\n",
    "## 유통시장 (Secondary market) (상장기업 1,987개)\n",
    "* 유가증권시장 (779종목): 자기자본 300억, 소액주주 700명 이상\n",
    "* 코스닥 시장 (1208종목): 자기자본 30억, 소액주주 500인 이상\n",
    "* 코넥스 시장 (142종목), K-OTC(140종목), KSM(39종목)\n",
    "* 장외주식거래\n",
    "\n",
    "(2016년말 기준)"
   ]
  },
  {
   "cell_type": "code",
   "execution_count": null,
   "metadata": {},
   "outputs": [],
   "source": [
    "# 파생 시장 (Derivatives market)\n",
    "* 선물 (Futures), 옵션 (Options), 스왑 (Swaps)\n",
    "* 선도계약 (Forwards): 기초자산을 현재시점에서 약정된 가격으로 미래 일정 시점에 매입/매도하기로 약정하는 거래"
   ]
  }
 ],
 "metadata": {
  "kernelspec": {
   "display_name": "Python 3",
   "language": "python",
   "name": "python3"
  },
  "language_info": {
   "codemirror_mode": {
    "name": "ipython",
    "version": 3
   },
   "file_extension": ".py",
   "mimetype": "text/x-python",
   "name": "python",
   "nbconvert_exporter": "python",
   "pygments_lexer": "ipython3",
   "version": "3.7.0"
  }
 },
 "nbformat": 4,
 "nbformat_minor": 2
}
