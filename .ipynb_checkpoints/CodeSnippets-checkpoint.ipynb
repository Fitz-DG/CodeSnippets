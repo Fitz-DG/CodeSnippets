{
 "cells": [
  {
   "cell_type": "markdown",
   "metadata": {},
   "source": [
    "# 개수 세기, TOP-N 구하기\n",
    "collections.Counter 를 사용하면 간편하게 개수를 셀 수 있다\n",
    "\n",
    "https://docs.python.org/3/library/collections.html#counter-objects\n",
    "\n",
    "* Counter() 딕셔너리에 저장된 값을 카운드 \n",
    "* Counter.most_common(10) 최상위 10개"
   ]
  },
  {
   "cell_type": "code",
   "execution_count": 6,
   "metadata": {},
   "outputs": [
    {
     "name": "stdout",
     "output_type": "stream",
     "text": [
      "                    GNU GENERAL PUBLIC LICENSE\n",
      "                       Version 3, 29 June 2007\n",
      "\n",
      " Copyright (C) 2007 Free Software Foundation, Inc. <https://fsf.org/>\n",
      " Everyone is permitted to copy and distribute verbatim copies\n",
      " of this license document, but changing it is not allowed.\n",
      "\n",
      "                            Preamble\n",
      "\n",
      "  The GNU General Public License is a free, copyleft license for\n",
      "software a\n",
      "5644\n",
      "['gnu', 'general', 'public', 'license', 'version', '3,', '29', 'june', '2007', 'copyright']\n"
     ]
    }
   ],
   "source": [
    "# 라이브러리 임포트\n",
    "import requests\n",
    "from collections import Counter\n",
    "\n",
    "r = requests.get('https://www.gnu.org/licenses/gpl.txt')\n",
    "print (r.text[:400])\n",
    "\n",
    "words = r.text.lower().split()\n",
    "print(len(words))\n",
    "print(words[:10])\n",
    "\n",
    "count = Counter(words)\n",
    "common = count.most_common(10)\n"
   ]
  },
  {
   "cell_type": "code",
   "execution_count": 7,
   "metadata": {},
   "outputs": [
    {
     "data": {
      "text/plain": [
       "[('the', 344),\n",
       " ('of', 219),\n",
       " ('to', 188),\n",
       " ('a', 178),\n",
       " ('or', 142),\n",
       " ('you', 123),\n",
       " ('and', 91),\n",
       " ('that', 89),\n",
       " ('this', 83),\n",
       " ('for', 83)]"
      ]
     },
     "execution_count": 7,
     "metadata": {},
     "output_type": "execute_result"
    }
   ],
   "source": [
    "common"
   ]
  },
  {
   "cell_type": "markdown",
   "metadata": {},
   "source": [
    "한국은행 - 통계 공표 일정\n",
    "http://www.bok.or.kr/portal/stats/statsPublictSchdul/listCldr.do?menuNo=200775\n",
    "\n",
    "한국은행 - 경제 통계 시스템(api 제공) 매월 통화량 제공\n",
    "http://ecos.bok.or.kr/\n",
    "\n",
    "\n",
    "https://www.youtube.com/watch?time_continue=2&v=0LYMTsj_eqc\n",
    "\n",
    "M1(협의통화) M2(광의통화), Lf(금융기관 유동성), L(광의 유동성)\n",
    " 통화량 개념\n",
    "\n",
    "  ° 본원통화:  화폐발행액 + 금융기관의 對한은 원화예치금\n",
    "\n",
    "  ° M1(협의통화)\n",
    "\n",
    "    -   현금통화 + 요구불예금.수시입출식 저축성예금  - 동 금융상품의 예금취급기관 간 상호거래분\n",
    "\n",
    "  ° M2(광의통화)\n",
    "\n",
    "     -   M1 + 기간물 정기예금,적금 및 부금 + 시장형금융상품(CD,RP,표지어음) + 실적 배당형금융상품(금전신탁,수익증권 등) + 금융채 + 기타(투신증권저축, 종금사 발행어음) - 동 금융상품 중 장기(만기 2년이상) 상품 - 동 금융상품의 예금취급기관 간 상호거래분\n",
    "\n",
    "  ° Lf(금융기관 유동성)\n",
    "\n",
    "     -   M2 + M2 중 만기2년이상 예적금 및 금융채 + 한국증권금융(주)의 예수금 + 생보사(우체국보험 포함)보험 계약준비금 + 농협 국민생명공제의 예수금 등 - 동 금융상품의 Lf 편제대상기관 간 상호거래분\n",
    "\n",
    " M1 : 원하면 바로 찾아 쓸 수 있는 돈(현금화 바로 가능)\n",
    " M2 : M1 + 2년 미만의 묶인 돈\n",
    "M2가 M1을 항상 포함하기 때문에 항상 크다\n",
    "통화량 차트를 스토캐스틱 재료로 사용해보자\n",
    "https://blog.naver.com/rnernesj/221382193585\n",
    "\n",
    "■ 통화량 의의 및 활용도\n",
    "  ° 통화량은 유동성을 측정하는 척도이며, 경제정책을 달성하기 위한 중간목표나 정보변수 등으로 활용\n",
    "■  수치해석 방법\n",
    "  °  지표 수치가 증가할수록 통화량 (증감율)이 증가"
   ]
  }
 ],
 "metadata": {
  "kernelspec": {
   "display_name": "Python 3",
   "language": "python",
   "name": "python3"
  },
  "language_info": {
   "codemirror_mode": {
    "name": "ipython",
    "version": 3
   },
   "file_extension": ".py",
   "mimetype": "text/x-python",
   "name": "python",
   "nbconvert_exporter": "python",
   "pygments_lexer": "ipython3",
   "version": "3.7.0"
  }
 },
 "nbformat": 4,
 "nbformat_minor": 2
}
